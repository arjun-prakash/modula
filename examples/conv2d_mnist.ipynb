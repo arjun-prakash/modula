{
 "cells": [
  {
   "cell_type": "markdown",
   "id": "337c8228",
   "metadata": {},
   "source": [
    "# Hello, Conv2D MNIST!\n",
    "\n",
    "In this notebook, we'll train a convolutional neural network on MNIST using the newly defined Conv2D class."
   ]
  },
  {
   "cell_type": "markdown",
   "id": "79a232d3",
   "metadata": {},
   "source": [
    "First, let's download the MNIST data."
   ]
  },
  {
   "cell_type": "code",
   "execution_count": 1,
   "id": "433806d6",
   "metadata": {},
   "outputs": [
    {
     "name": "stdout",
     "output_type": "stream",
     "text": [
      "Training images shape: (60000, 28, 28)\n",
      "Training labels shape: (60000,)\n",
      "Test images shape: (10000, 28, 28)\n",
      "Test labels shape: (10000,)\n"
     ]
    }
   ],
   "source": [
    "import sys\n",
    "import os\n",
    "\n",
    "# Add examples directory to path to access data module\n",
    "examples_path = os.path.abspath(os.path.join(os.getcwd(), '..', 'examples'))\n",
    "sys.path.insert(0, examples_path)\n",
    "\n",
    "from data.mnist import load_mnist\n",
    "\n",
    "# Load the MNIST dataset\n",
    "train_images, train_labels, test_images, test_labels = load_mnist()\n",
    "\n",
    "# Print shapes to verify loading\n",
    "print(f\"Training images shape: {train_images.shape}\")\n",
    "print(f\"Training labels shape: {train_labels.shape}\")\n",
    "print(f\"Test images shape: {test_images.shape}\")\n",
    "print(f\"Test labels shape: {test_labels.shape}\")"
   ]
  },
  {
   "cell_type": "markdown",
   "id": "866c65c5",
   "metadata": {},
   "source": [
    "Let's visualize a few training samples."
   ]
  },
  {
   "cell_type": "code",
   "execution_count": 2,
   "id": "f154a7fb",
   "metadata": {},
   "outputs": [
    {
     "data": {
      "image/png": "[encoded data removed]",
      "text/plain": [
       "<Figure size 1000x300 with 5 Axes>"
      ]
     },
     "metadata": {},
     "output_type": "display_data"
    }
   ],
   "source": [
    "import matplotlib.pyplot as plt\n",
    "\n",
    "# Create a figure with 5 subplots\n",
    "fig, axes = plt.subplots(1, 5, figsize=(10, 3))\n",
    "\n",
    "# Plot each image and its label\n",
    "for i in range(5):\n",
    "    axes[i].imshow(train_images[i], cmap='gray')\n",
    "    axes[i].set_title(f'Label: {train_labels[i]}')\n",
    "    axes[i].axis('off')\n",
    "\n",
    "plt.tight_layout()\n",
    "plt.show()"
   ]
  },
  {
   "cell_type": "markdown",
   "id": "f11aece1",
   "metadata": {},
   "source": [
    "Now we need to prepare the data for Conv2D. Unlike the MLP which uses flattened inputs, Conv2D expects images in [N, H, W, C] format. We'll also encode targets as one-hot vectors and write a mini-batch sampler."
   ]
  },
  {
   "cell_type": "code",
   "execution_count": 3,
   "id": "117f3232",
   "metadata": {},
   "outputs": [
    {
     "name": "stdout",
     "output_type": "stream",
     "text": [
      "X_train shape: (60000, 28, 28, 1)\n",
      "y_train shape: (60000, 10)\n"
     ]
    }
   ],
   "source": [
    "import jax\n",
    "import jax.numpy as jnp\n",
    "\n",
    "def one_hot(x, k, dtype=jnp.float32):\n",
    "    \"\"\"Create a one-hot encoding of x of size k.\"\"\"\n",
    "    return jnp.array(x[:, None] == jnp.arange(k), dtype)\n",
    "\n",
    "# Reshape images to [N, H, W, C] format (add channel dimension)\n",
    "X_train = train_images[..., None]  # shape: [60000, 28, 28, 1]\n",
    "y_train = one_hot(train_labels, 10)\n",
    "\n",
    "X_test = test_images[..., None]  # shape: [10000, 28, 28, 1]\n",
    "\n",
    "print(f\"X_train shape: {X_train.shape}\")\n",
    "print(f\"y_train shape: {y_train.shape}\")\n",
    "\n",
    "# Get a batch\n",
    "def get_batch(key, batch_size):\n",
    "    idx = jax.random.choice(key, X_train.shape[0], shape=(batch_size,))\n",
    "    return X_train[idx], y_train[idx]"
   ]
  },
  {
   "cell_type": "markdown",
   "id": "2a45b479",
   "metadata": {},
   "source": [
    "Now let's build a CNN using the Conv2D class. We'll use a simple architecture:\n",
    "- Conv2D: 1 → 16 channels, 3x3 kernel\n",
    "- ReLU\n",
    "- Conv2D: 16 → 32 channels, 3x3 kernel  \n",
    "- ReLU\n",
    "- Flatten the spatial dimensions\n",
    "- Linear layer to output (10 classes)"
   ]
  },
  {
   "cell_type": "code",
   "execution_count": 4,
   "id": "e4165872",
   "metadata": {},
   "outputs": [
    {
     "name": "stdout",
     "output_type": "stream",
     "text": [
      "CompositeModule\n",
      "...consists of 3 atoms and 3 bonds\n",
      "...non-smooth\n",
      "...input sensitivity is 1\n",
      "...contributes proportion 3 to feature learning of any supermodule\n"
     ]
    }
   ],
   "source": [
    "import sys\n",
    "import os\n",
    "\n",
    "# Add the project root to the Python path to access modula module\n",
    "project_root = os.path.abspath(os.path.join(os.getcwd(), '..'))\n",
    "if project_root not in sys.path:\n",
    "    sys.path.insert(0, project_root)\n",
    "\n",
    "from modula.atom import Conv2D, Linear\n",
    "from modula.bond import ReLU, Flatten\n",
    "\n",
    "# Build the CNN\n",
    "# Input: [N, 28, 28, 1]\n",
    "# After conv1: [N, 28, 28, 16] (SAME padding)\n",
    "# After conv2: [N, 28, 28, 32]\n",
    "# After flatten: [N, 28*28*32] = [N, 25088]\n",
    "# After linear: [N, 10]\n",
    "\n",
    "d_in = 1\n",
    "d_hidden1 = 16\n",
    "d_hidden2 = 32\n",
    "kernel_size = 3\n",
    "output_dim = 10\n",
    "flattened_dim = 28 * 28 * d_hidden2  # 25088\n",
    "\n",
    "cnn = Linear(output_dim, flattened_dim)\n",
    "cnn @= Flatten()\n",
    "cnn @= ReLU() @ Conv2D(d_hidden1, d_hidden2, kernel_size)\n",
    "cnn @= ReLU() @ Conv2D(d_in, d_hidden1, kernel_size)\n",
    "\n",
    "print(cnn)\n",
    "\n",
    "cnn.jit()"
   ]
  },
  {
   "cell_type": "markdown",
   "id": "12d97494",
   "metadata": {},
   "source": [
    "Let's train the CNN for 1000 steps."
   ]
  },
  {
   "cell_type": "code",
   "execution_count": 5,
   "id": "d1ee5b76",
   "metadata": {},
   "outputs": [
    {
     "data": {
      "application/vnd.jupyter.widget-view+json": {
       "model_id": "af93e54232904ed1a527b7f6299be47a",
       "version_major": 2,
       "version_minor": 0
      },
      "text/plain": [
       "Loss: 0.0000:   0%|          | 0/1000 [00:00<?, ?it/s]"
      ]
     },
     "metadata": {},
     "output_type": "display_data"
    }
   ],
   "source": [
    "from tqdm.notebook import tqdm\n",
    "\n",
    "def mse(w, inputs, targets):\n",
    "    outputs = cnn(inputs, w)\n",
    "    loss = ((outputs - targets) ** 2).mean()\n",
    "    return loss\n",
    "\n",
    "mse_and_grad = jax.jit(jax.value_and_grad(mse))\n",
    "\n",
    "batch_size = 128\n",
    "steps = 1000\n",
    "learning_rate = 0.1\n",
    "\n",
    "key = jax.random.PRNGKey(0)\n",
    "w = cnn.initialize(key)\n",
    "    \n",
    "progress_bar = tqdm(range(steps), desc=f\"Loss: {0:.4f}\")\n",
    "for step in progress_bar:\n",
    "    key = jax.random.PRNGKey(step)\n",
    "    inputs, targets = get_batch(key, batch_size)\n",
    "    \n",
    "    loss, grad_w = mse_and_grad(w, inputs, targets)\n",
    "    d_w = cnn.dualize(grad_w)\n",
    "    w = [weight - learning_rate * d_weight for weight, d_weight in zip(w, d_w)]\n",
    "    progress_bar.set_description(f\"Loss: {loss:.4f}\")"
   ]
  },
  {
   "cell_type": "markdown",
   "id": "6a03d819",
   "metadata": {},
   "source": [
    "Finally, let's evaluate the model on test data and visualize some predictions."
   ]
  },
  {
   "cell_type": "code",
   "execution_count": 6,
   "id": "f092e8c2",
   "metadata": {},
   "outputs": [
    {
     "data": {
      "image/png": "[encoded data removed]",
      "text/plain": [
       "<Figure size 1000x300 with 5 Axes>"
      ]
     },
     "metadata": {},
     "output_type": "display_data"
    },
    {
     "name": "stdout",
     "output_type": "stream",
     "text": [
      "Accuracy on shown samples: 5/5\n",
      "Overall test accuracy: 97.24%\n"
     ]
    }
   ],
   "source": [
    "# Get predictions for test images\n",
    "test_outputs = cnn(X_test, w)\n",
    "predicted_labels = jnp.argmax(test_outputs, axis=1)\n",
    "\n",
    "# Create a figure with subplots for multiple test images\n",
    "n_samples = 5  # Number of test images to display\n",
    "fig, axes = plt.subplots(1, n_samples, figsize=(10, 3))\n",
    "\n",
    "# Plot each test image with predicted labels\n",
    "for i in range(n_samples):\n",
    "    axes[i].imshow(test_images[i], cmap='gray')\n",
    "    axes[i].set_title(f'Predicted: {int(predicted_labels[i])}')\n",
    "    axes[i].axis('off')\n",
    "\n",
    "plt.tight_layout()\n",
    "plt.show()\n",
    "\n",
    "# Print accuracy for these samples\n",
    "correct = (predicted_labels[:n_samples] == test_labels[:n_samples]).sum()\n",
    "print(f\"Accuracy on shown samples: {correct}/{n_samples}\")\n",
    "\n",
    "# Calculate and print overall test accuracy\n",
    "total_correct = (predicted_labels == test_labels).sum()\n",
    "total_samples = len(test_labels)\n",
    "print(f\"Overall test accuracy: {100 * total_correct/total_samples:.2f}%\")"
   ]
  }
 ],
 "metadata": {
  "kernelspec": {
   "display_name": ".venv",
   "language": "python",
   "name": "python3"
  },
  "language_info": {
   "codemirror_mode": {
    "name": "ipython",
    "version": 3
   },
   "file_extension": ".py",
   "mimetype": "text/x-python",
   "name": "python",
   "nbconvert_exporter": "python",
   "pygments_lexer": "ipython3",
   "version": "3.13.7"
  }
 },
 "nbformat": 4,
 "nbformat_minor": 5
}
